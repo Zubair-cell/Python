{
  "nbformat": 4,
  "nbformat_minor": 0,
  "metadata": {
    "colab": {
      "name": "Practice.ipynb",
      "provenance": [],
      "authorship_tag": "ABX9TyMEp6kqRnOXy8mznzbgOLqy",
      "include_colab_link": true
    },
    "kernelspec": {
      "name": "python3",
      "display_name": "Python 3"
    },
    "language_info": {
      "name": "python"
    }
  },
  "cells": [
    {
      "cell_type": "markdown",
      "metadata": {
        "id": "view-in-github",
        "colab_type": "text"
      },
      "source": [
        "<a href=\"https://colab.research.google.com/github/Zubair-cell/Python/blob/main/Practice.ipynb\" target=\"_parent\"><img src=\"https://colab.research.google.com/assets/colab-badge.svg\" alt=\"Open In Colab\"/></a>"
      ]
    },
    {
      "cell_type": "code",
      "metadata": {
        "id": "PJfyhsm7JXD1",
        "colab": {
          "base_uri": "https://localhost:8080/"
        },
        "outputId": "ad735c39-fce4-4a04-ef0f-4b6222902679"
      },
      "source": [
        "num=int(input(\"enter a number:\"))\n",
        "for i in range(1,11,1):\n",
        "  print(num*i)"
      ],
      "execution_count": null,
      "outputs": [
        {
          "output_type": "stream",
          "name": "stdout",
          "text": [
            "enter a number:152\n",
            "152\n",
            "304\n",
            "456\n",
            "608\n",
            "760\n",
            "912\n",
            "1064\n",
            "1216\n",
            "1368\n",
            "1520\n"
          ]
        }
      ]
    },
    {
      "cell_type": "code",
      "metadata": {
        "colab": {
          "base_uri": "https://localhost:8080/"
        },
        "id": "7juMkHjd9fUw",
        "outputId": "444a31c5-0caf-4bdc-f51a-f00eb8d663a5"
      },
      "source": [
        "for i in range(0,5,1):\n",
        "  for j in range(0,5,1):\n",
        "    print(\"*\",end='')\n",
        "\n",
        "  print()"
      ],
      "execution_count": null,
      "outputs": [
        {
          "output_type": "stream",
          "name": "stdout",
          "text": [
            "*****\n",
            "*****\n",
            "*****\n",
            "*****\n",
            "*****\n"
          ]
        }
      ]
    },
    {
      "cell_type": "code",
      "metadata": {
        "colab": {
          "base_uri": "https://localhost:8080/"
        },
        "id": "uMqi7dB_-zIG",
        "outputId": "f8cec07c-27b6-44ba-e491-81c481196420"
      },
      "source": [
        "for i in range(0,5,1):\n",
        "  for j in range(0,i+1,1):\n",
        "    print(\"*\",end='')\n",
        "\n",
        "  print()"
      ],
      "execution_count": null,
      "outputs": [
        {
          "output_type": "stream",
          "name": "stdout",
          "text": [
            "*\n",
            "**\n",
            "***\n",
            "****\n",
            "*****\n"
          ]
        }
      ]
    },
    {
      "cell_type": "code",
      "metadata": {
        "colab": {
          "base_uri": "https://localhost:8080/"
        },
        "id": "Q0GV1AuO_MdN",
        "outputId": "c62682f3-a422-4f66-8670-101c07e38876"
      },
      "source": [
        "for i in range(0,5,1):\n",
        "  for j in range(5,i,-1):\n",
        "    print(\"*\",end='')\n",
        "\n",
        "  print()"
      ],
      "execution_count": null,
      "outputs": [
        {
          "output_type": "stream",
          "name": "stdout",
          "text": [
            "*****\n",
            "****\n",
            "***\n",
            "**\n",
            "*\n"
          ]
        }
      ]
    },
    {
      "cell_type": "code",
      "metadata": {
        "colab": {
          "base_uri": "https://localhost:8080/"
        },
        "id": "bQ9UK3vo__0J",
        "outputId": "466a37fd-6b78-4ffd-a015-d497c0ecfa07"
      },
      "source": [
        "for i in range(1,6,1):\n",
        "  for j in range(1,i+1,1):\n",
        "    print(j,end='')\n",
        "\n",
        "  print()"
      ],
      "execution_count": null,
      "outputs": [
        {
          "output_type": "stream",
          "name": "stdout",
          "text": [
            "1\n",
            "12\n",
            "123\n",
            "1234\n",
            "12345\n"
          ]
        }
      ]
    },
    {
      "cell_type": "code",
      "metadata": {
        "colab": {
          "base_uri": "https://localhost:8080/"
        },
        "id": "1HgYua9_Aa-F",
        "outputId": "0345cfe3-ee8c-4a54-e380-1584584ac4d9"
      },
      "source": [
        "for i in range(0,5,1):\n",
        "  for j in range(5,i,-1):\n",
        "    print(\"*\",end='')\n",
        "\n",
        "  print()"
      ],
      "execution_count": null,
      "outputs": [
        {
          "output_type": "stream",
          "name": "stdout",
          "text": [
            "*****\n",
            "****\n",
            "***\n",
            "**\n",
            "*\n"
          ]
        }
      ]
    },
    {
      "cell_type": "code",
      "metadata": {
        "colab": {
          "base_uri": "https://localhost:8080/"
        },
        "id": "Fu8P41vIDtAZ",
        "outputId": "eb502aa5-6fb1-47fe-e085-dde7eab6930a"
      },
      "source": [
        "for i in range(0,5,1):\n",
        "  for i in range(0,i+1,1):\n",
        "    print(\"*\",end='')\n",
        "  print()"
      ],
      "execution_count": null,
      "outputs": [
        {
          "output_type": "stream",
          "name": "stdout",
          "text": [
            "*\n",
            "**\n",
            "***\n",
            "****\n",
            "*****\n"
          ]
        }
      ]
    },
    {
      "cell_type": "code",
      "metadata": {
        "colab": {
          "base_uri": "https://localhost:8080/"
        },
        "id": "x9O1z-ibKfKu",
        "outputId": "1560d327-0b64-4480-f720-ee604422d122"
      },
      "source": [
        "for i in range(1,5,1):\n",
        "  for j in range(0,i+1,1):\n",
        "    print(j,end='')\n",
        "\n",
        "  print()"
      ],
      "execution_count": null,
      "outputs": [
        {
          "output_type": "stream",
          "name": "stdout",
          "text": [
            "01\n",
            "012\n",
            "0123\n",
            "01234\n"
          ]
        }
      ]
    },
    {
      "cell_type": "markdown",
      "metadata": {
        "id": "xLfQxBmmJjjm"
      },
      "source": [
        ""
      ]
    },
    {
      "cell_type": "code",
      "metadata": {
        "colab": {
          "base_uri": "https://localhost:8080/"
        },
        "id": "NWeQr3OsJlSt",
        "outputId": "02d2d648-55af-4016-f418-f86631a15824"
      },
      "source": [
        "num=int(input(\"enter any number:\"))\n",
        "if(num%2==0):\n",
        "  print(\"this number is even.\")\n",
        "else:\n",
        "  print(\"this number is odd.\")"
      ],
      "execution_count": null,
      "outputs": [
        {
          "output_type": "stream",
          "name": "stdout",
          "text": [
            "enter any number:5\n",
            "this number is odd.\n"
          ]
        }
      ]
    },
    {
      "cell_type": "code",
      "metadata": {
        "colab": {
          "base_uri": "https://localhost:8080/"
        },
        "id": "020554D2KEX5",
        "outputId": "59dda755-4364-4ddb-dba3-ecc3822711fc"
      },
      "source": [
        "age=int(input(\"enter your age:\"))\n",
        "if(age>=18):\n",
        "  print(\"you are eligible for vote.\")\n",
        "else:\n",
        "  yrs=18-age\n",
        "  print(\"you have to wait for another \" + str(yrs) +\" years to cast your vote\")"
      ],
      "execution_count": null,
      "outputs": [
        {
          "output_type": "stream",
          "name": "stdout",
          "text": [
            "enter your age:12\n",
            "you have to wait for another 6 years to cast your vote\n"
          ]
        }
      ]
    },
    {
      "cell_type": "code",
      "metadata": {
        "colab": {
          "base_uri": "https://localhost:8080/"
        },
        "id": "DSfVK6zeLioF",
        "outputId": "01cd5be2-a4fa-42ad-afa7-1453f287e268"
      },
      "source": [
        "num1=int(input(\"enter a number:\"))\n",
        "num2=int(input(\"enter a number:\"))\n",
        "if(num1>num2):\n",
        "  large=num1\n",
        "else:\n",
        "  large=num2\n",
        "\n",
        "print(\"large=\",large)\n",
        "  "
      ],
      "execution_count": null,
      "outputs": [
        {
          "output_type": "stream",
          "name": "stdout",
          "text": [
            "enter a number:45\n",
            "enter a number:41\n",
            "large= 45\n"
          ]
        }
      ]
    },
    {
      "cell_type": "code",
      "metadata": {
        "colab": {
          "base_uri": "https://localhost:8080/"
        },
        "id": "HvTUhLXLMvzh",
        "outputId": "8d844f12-cb08-47ab-c608-e9a440de1803"
      },
      "source": [
        "char=input(\"enter ant character:\")\n",
        "if(char>='A' and char<='z'):\n",
        "  char=char.lower()\n",
        "  print(\"the entered charactere was in uppercase. In lowercase is :\" +char)\n",
        "else:\n",
        "  char=char.upper()\n",
        "  print(\"the enetered character was in lowercase. In uppercase is :\" +char)"
      ],
      "execution_count": null,
      "outputs": [
        {
          "output_type": "stream",
          "name": "stdout",
          "text": [
            "enter ant character:Z\n",
            "the entered charactere was in uppercase. In lowercase is :z\n"
          ]
        }
      ]
    },
    {
      "cell_type": "code",
      "metadata": {
        "colab": {
          "base_uri": "https://localhost:8080/"
        },
        "id": "2ZEww1rvK_Lj",
        "outputId": "70df0831-a586-4a03-d7dc-a2c1d4b65667"
      },
      "source": [
        "ch=input(\"enter the sex of the employee(m or f):\")\n",
        "sal=int(input(\"Enter the salary of the employee:\"))\n",
        "if(ch=='m' and sal<=10000):\n",
        "  bonus=0.5*sal\n",
        "  bonus=0.7*sal\n",
        "elif(ch==\"f\" and sal<10000):\n",
        "  bonus=0.10*sal\n",
        "  bonus=0.12*sal\n",
        "amt_to_be_paid =sal+bonus\n",
        "print(bonus)\n",
        "print(\"*-----------*\")\n",
        "print(\"amount to be paid=\",amt_to_be_paid)\n"
      ],
      "execution_count": null,
      "outputs": [
        {
          "output_type": "stream",
          "name": "stdout",
          "text": [
            "enter the sex of the employee(m or f):m\n",
            "Enter the salary of the employee:5000\n",
            "3500.0\n",
            "*-----------*\n",
            "amount to be paid= 8500.0\n"
          ]
        }
      ]
    },
    {
      "cell_type": "code",
      "metadata": {
        "colab": {
          "base_uri": "https://localhost:8080/"
        },
        "id": "QDWS6ubZTjEP",
        "outputId": "1a24e840-fd3c-4bb9-99b5-e7f1ad8863c5"
      },
      "source": [
        "a=10 if 20>15 else 5\n",
        "print(a)"
      ],
      "execution_count": null,
      "outputs": [
        {
          "output_type": "stream",
          "name": "stdout",
          "text": [
            "10\n"
          ]
        }
      ]
    },
    {
      "cell_type": "code",
      "metadata": {
        "colab": {
          "base_uri": "https://localhost:8080/"
        },
        "id": "8ZohV1zNUJx3",
        "outputId": "5372758d-8089-4239-e45f-afed74e4a80d"
      },
      "source": [
        "a=[]\n",
        "b=a.append(3)\n",
        "print(b)"
      ],
      "execution_count": null,
      "outputs": [
        {
          "output_type": "stream",
          "name": "stdout",
          "text": [
            "None\n"
          ]
        }
      ]
    },
    {
      "cell_type": "markdown",
      "metadata": {
        "id": "LPYobvkqZyG1"
      },
      "source": [
        "WHILE LOOP\n"
      ]
    },
    {
      "cell_type": "code",
      "metadata": {
        "colab": {
          "base_uri": "https://localhost:8080/"
        },
        "id": "nIksA_0LZ1PN",
        "outputId": "0dd324b7-5ce2-4461-b1ad-5fcc61c927fd"
      },
      "source": [
        "i=1\n",
        "while(i<=10):\n",
        "  print(i,end=' ')\n",
        "  i=i+1"
      ],
      "execution_count": null,
      "outputs": [
        {
          "output_type": "stream",
          "name": "stdout",
          "text": [
            "1 2 3 4 5 6 7 8 9 10 "
          ]
        }
      ]
    },
    {
      "cell_type": "code",
      "metadata": {
        "colab": {
          "base_uri": "https://localhost:8080/"
        },
        "id": "KW85-RISayyV",
        "outputId": "187b3da5-b688-4444-997d-ebf8ca48763d"
      },
      "source": [
        "i=0\n",
        "while(i<=10):\n",
        "  print(i,end='\\t')\n",
        "  i=i+1"
      ],
      "execution_count": null,
      "outputs": [
        {
          "output_type": "stream",
          "name": "stdout",
          "text": [
            "0\t1\t2\t3\t4\t5\t6\t7\t8\t9\t10\t"
          ]
        }
      ]
    },
    {
      "cell_type": "code",
      "metadata": {
        "colab": {
          "base_uri": "https://localhost:8080/"
        },
        "id": "n53dNeNYauti",
        "outputId": "52b47d96-1d6b-4822-b982-49a53d5cf776"
      },
      "source": [
        "i=0\n",
        "s=0\n",
        "while(i<=10):\n",
        "  s=s+i\n",
        "  i=i+1\n",
        "avg=float(s)/10\n",
        "print(\"the sum of 10 numbers=\",s)\n",
        "print(\"the average of 10 numbers=\",avg)"
      ],
      "execution_count": null,
      "outputs": [
        {
          "output_type": "stream",
          "name": "stdout",
          "text": [
            "the sum of 10 numbers= 55\n",
            "the average of 10 numbers= 5.5\n"
          ]
        }
      ]
    },
    {
      "cell_type": "code",
      "metadata": {
        "colab": {
          "base_uri": "https://localhost:8080/"
        },
        "id": "ikQxaVwWbuyK",
        "outputId": "0c9a2e72-0bef-425e-aa16-1aa4e2e50075"
      },
      "source": [
        "i=1\n",
        "while(i<=10):\n",
        "  print('*',end='')\n",
        "  i=i+1"
      ],
      "execution_count": null,
      "outputs": [
        {
          "output_type": "stream",
          "name": "stdout",
          "text": [
            "**********"
          ]
        }
      ]
    },
    {
      "cell_type": "code",
      "metadata": {
        "colab": {
          "base_uri": "https://localhost:8080/"
        },
        "id": "BC34PhV_cH24",
        "outputId": "565d331f-31dc-45fe-8c8f-9d0bb8ce7d5e"
      },
      "source": [
        "m=int(input(\"enter the value of m:\"))\n",
        "n=int(input(\"enter the value of n:\"))\n",
        "s=0\n",
        "while(m<=n):\n",
        "  s=s+m\n",
        "  m=m+1\n",
        "print(\"sum=\",s)"
      ],
      "execution_count": null,
      "outputs": [
        {
          "output_type": "stream",
          "name": "stdout",
          "text": [
            "enter the value of m:5\n",
            "enter the value of n:10\n",
            "sum= 45\n"
          ]
        }
      ]
    },
    {
      "cell_type": "code",
      "metadata": {
        "colab": {
          "base_uri": "https://localhost:8080/"
        },
        "id": "c7x1AEDPf5vI",
        "outputId": "d2e32641-001d-491e-fb07-ed862dc1914f"
      },
      "source": [
        "negatives=positives=zeroes=0\n",
        "print(\"enter -1 to exit....\")\n",
        "while(1):\n",
        "  num=int(in2put(\"enter any number:\"))\n",
        "  if(num==-1):\n",
        "    break\n",
        "  if(num==0):\n",
        "    zeroes=zeroes+1\n",
        "  elif(num>0):\n",
        "    positives=positives+1\n",
        "  else:\n",
        "    negatives=negatives+1\n",
        "\n",
        "print(\"counter of positives number entered:\",positives)\n",
        "print(\"counter of negatives numbers entered:\",negatives)\n",
        "print(\"count of zeroes entered:\",zeroes)"
      ],
      "execution_count": null,
      "outputs": [
        {
          "output_type": "stream",
          "name": "stdout",
          "text": [
            "enter -1 to exit....\n",
            "enter any number:5\n",
            "enter any number:5\n",
            "enter any number:8\n",
            "enter any number:02\n",
            "enter any number:1\n",
            "enter any number:0\n",
            "enter any number:7\n",
            "enter any number:48\n",
            "enter any number:-1\n",
            "counter of positives number entered: 7\n",
            "counter of negatives numbers entered: 0\n",
            "count of zeroes entered: 1\n"
          ]
        }
      ]
    },
    {
      "cell_type": "code",
      "metadata": {
        "colab": {
          "base_uri": "https://localhost:8080/"
        },
        "id": "IOTjRdLTnPq1",
        "outputId": "582bb570-a85b-4c96-806c-71b257244b9d"
      },
      "source": [
        "neg_count=0\n",
        "neg_s=0\n",
        "pos_count=0\n",
        "pos_s=0\n",
        "print(\"enter -1 to exit...\")\n",
        "num= int(input(\"enter the number:\"))\n",
        "while(num!=-1):\n",
        "  if(num<0):\n",
        "    neg_count=neg_count+1\n",
        "    neg_s=neg_s+num\n",
        "  else:\n",
        "    pos_count=pos_count+1\n",
        "    pos_s=pos_s+num\n",
        "  num=int(input(\"enter the number:\"))\n",
        "neg_avg=float(neg_s)\n",
        "pos_avg=float(pos_s)\n",
        "print(\"the average of negative numbers is:\",neg_avg)\n",
        "print(\"the average of positive numbers is:\",pos_avg)"
      ],
      "execution_count": null,
      "outputs": [
        {
          "output_type": "stream",
          "name": "stdout",
          "text": [
            "enter -1 to exit...\n",
            "enter the number:14\n",
            "enter the number:45\n",
            "enter the number:-5\n",
            "enter the number:-6\n",
            "enter the number:-1\n",
            "the average of negative numbers is: -11.0\n",
            "the average of positive numbers is: 59.0\n"
          ]
        }
      ]
    },
    {
      "cell_type": "code",
      "metadata": {
        "colab": {
          "base_uri": "https://localhost:8080/"
        },
        "id": "qaIys-IrpXz6",
        "outputId": "e69f9501-a14e-4363-85a0-bebe5d0072d7"
      },
      "source": [
        "n=int(input(\"enter a number:\"))\n",
        "s=0\n",
        "num=n\n",
        "while(n>0):\n",
        "  r=n%10\n",
        "  s=s+(r**3)\n",
        "  n=n/10\n",
        "if(s==num):\n",
        "  print(\"this number is Armstrong\")\n",
        "else:\n",
        "   print(\"this number is not Armstrong\")\n",
        "  "
      ],
      "execution_count": null,
      "outputs": [
        {
          "output_type": "stream",
          "name": "stdout",
          "text": [
            "enter a number:371\n",
            "this number is not Armstrong\n"
          ]
        }
      ]
    },
    {
      "cell_type": "code",
      "metadata": {
        "id": "vYE4BMIHqvWZ"
      },
      "source": [
        "decimal_num=int(input(\"enter the decimal number:\"))\n",
        "binary_num=0\n",
        "i=0\n",
        "while(decimal_num!=0):\n",
        "  remainder=decimal_num%2\n",
        "  binary_num=binary_num+remainder*(10**i)\n",
        "  decimal_num=decimal_num/2\n",
        "  i=i+1\n",
        "print(\"The binary equivalent=\",binary_num)"
      ],
      "execution_count": null,
      "outputs": []
    },
    {
      "cell_type": "code",
      "source": [
        "num=int(input(\"enter the positive nuumber :\"))\n",
        "if (num>0):\n",
        "  num=num+1\n",
        "print(num)"
      ],
      "metadata": {
        "colab": {
          "base_uri": "https://localhost:8080/"
        },
        "id": "XfwTXGohFv7J",
        "outputId": "19563df1-89e5-4685-9bba-49acfa7fc1a4"
      },
      "execution_count": 4,
      "outputs": [
        {
          "output_type": "stream",
          "name": "stdout",
          "text": [
            "enter the positive nuumber :10\n",
            "11\n"
          ]
        }
      ]
    },
    {
      "cell_type": "code",
      "source": [
        "age=int(input(\"Enter the age of person:\"))\n",
        "if (age>=18):\n",
        "  print(\"Person is eligible for voting.\")\n",
        "else:\n",
        "  print(\"Person is not eligible for voting\")"
      ],
      "metadata": {
        "colab": {
          "base_uri": "https://localhost:8080/"
        },
        "id": "E5ggkxIiGfGf",
        "outputId": "9c58800a-097e-49f7-ec62-05d7229f5a8f"
      },
      "execution_count": 8,
      "outputs": [
        {
          "output_type": "stream",
          "name": "stdout",
          "text": [
            "Enter the age of person:21\n",
            "Person is eligible for voting.\n"
          ]
        }
      ]
    },
    {
      "cell_type": "code",
      "source": [
        "char=input(\"enter the character:\")\n",
        "if(char.isalpha()):\n",
        "  print(\"The user has entered a character.\")\n",
        "if(char.isdigit()):\n",
        "  print(\"The user has entered digit.\")\n",
        "if(char.isspace()):\n",
        "  print(\"User has enter space character.\")\n"
      ],
      "metadata": {
        "colab": {
          "base_uri": "https://localhost:8080/"
        },
        "id": "N9e50cOEHczy",
        "outputId": "8e4faffa-538c-4b43-f25f-1e59bd88229b"
      },
      "execution_count": 12,
      "outputs": [
        {
          "output_type": "stream",
          "name": "stdout",
          "text": [
            "enter the character:   \n",
            "User has enter space character.\n"
          ]
        }
      ]
    },
    {
      "cell_type": "code",
      "source": [
        "num=int(input(\"Enter the number:\"))\n",
        "if(num%2==0):\n",
        "  print(\"this number is even\")\n",
        "else:\n",
        "  print(\"this number is odd\")"
      ],
      "metadata": {
        "colab": {
          "base_uri": "https://localhost:8080/"
        },
        "id": "ez4niSswIcUm",
        "outputId": "70d14c8b-5156-472e-fb0e-f9d1633d0d55"
      },
      "execution_count": 15,
      "outputs": [
        {
          "output_type": "stream",
          "name": "stdout",
          "text": [
            "Enter the number:14\n",
            "this number is even\n"
          ]
        }
      ]
    },
    {
      "cell_type": "code",
      "source": [
        "age=int(input(\"enter the age:\"))\n",
        "if(age>=18):\n",
        "  print(\"You are eligible for voting\")\n",
        "else:\n",
        "  yrs=18-age\n",
        "  print(\"You have to wait for another \"+str(yrs)+\" years to cast your vote\")"
      ],
      "metadata": {
        "colab": {
          "base_uri": "https://localhost:8080/"
        },
        "id": "dweboQvPI8ns",
        "outputId": "4ef7ee5a-c331-46f0-a2f1-8d26b7670a9c"
      },
      "execution_count": 19,
      "outputs": [
        {
          "output_type": "stream",
          "name": "stdout",
          "text": [
            "enter the age:12\n",
            "You have to wait for another 6 years to cast your vote\n"
          ]
        }
      ]
    },
    {
      "cell_type": "code",
      "source": [
        "num1=int(input(\"enter the first number\"))\n",
        "num2=int(input(\"enter the second number\"))\n",
        "if(num1>num2):\n",
        "  print(\"num1 is greater\")\n",
        "else:\n",
        "  print(\"num2 is greater\")"
      ],
      "metadata": {
        "colab": {
          "base_uri": "https://localhost:8080/"
        },
        "id": "656jQ0D6J36h",
        "outputId": "1ac169dd-3e93-451a-88b5-398fe6400b2f"
      },
      "execution_count": 23,
      "outputs": [
        {
          "output_type": "stream",
          "name": "stdout",
          "text": [
            "enter the first number15\n",
            "enter the second number45\n",
            "num2 is greater\n"
          ]
        }
      ]
    },
    {
      "cell_type": "code",
      "source": [
        "char=input(\"Enter any character\")\n",
        "if(char>=\"A\" and char<=\"Z\"):\n",
        "  char=char.lower()\n",
        "  print(\"The entered charater was in uppercse. In lowercase is:\"+char)\n",
        "else:\n",
        "  char=char.upper()\n",
        "  print(\"The entered character was in lowercase. In uppercase:\"+char)\n"
      ],
      "metadata": {
        "colab": {
          "base_uri": "https://localhost:8080/"
        },
        "id": "Lwq66jdWKssg",
        "outputId": "7af2e7d1-96ef-4da3-959b-0eee214241d6"
      },
      "execution_count": 31,
      "outputs": [
        {
          "output_type": "stream",
          "name": "stdout",
          "text": [
            "Enter any characterzubair\n",
            "The entered character was in lowercase. In uppercase:ZUBAIR\n"
          ]
        }
      ]
    },
    {
      "cell_type": "code",
      "source": [
        "ch=input(\"enter the gender of the employe (m or f):\")\n",
        "sal=int(input(\"Enter the salary of the employee:\"))\n",
        "if(ch=='m'):\n",
        "  bonus=0.05*sal\n",
        "else:\n",
        "  bonus=0.10*sal\n",
        "amtpaid=bonus+sal\n",
        "print(\"salary=\",sal)\n",
        "print(\"Bonus\",bonus)\n",
        "print(\"amount to be paid :\",amtpaid)"
      ],
      "metadata": {
        "colab": {
          "base_uri": "https://localhost:8080/"
        },
        "id": "hgqOAfT8N2fL",
        "outputId": "5ed7979e-f59b-4567-c836-3b9895d97ffd"
      },
      "execution_count": 33,
      "outputs": [
        {
          "output_type": "stream",
          "name": "stdout",
          "text": [
            "enter the gender of the employe (m or f):f\n",
            "Enter the salary of the employee:20000\n",
            "salary= 20000\n",
            "Bonus 2000.0\n",
            "amount to be paid : 22000.0\n"
          ]
        }
      ]
    }
  ]
}